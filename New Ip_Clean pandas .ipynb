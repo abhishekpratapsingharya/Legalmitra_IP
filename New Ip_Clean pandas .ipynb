{
 "cells": [
  {
   "cell_type": "markdown",
   "id": "c9524fc8-ff73-4b50-99f5-a92d6fdcb68a",
   "metadata": {},
   "source": [
    "# import "
   ]
  },
  {
   "cell_type": "code",
   "execution_count": 1,
   "id": "4a57944a-80dd-46c9-a7f7-17e74c35e154",
   "metadata": {},
   "outputs": [],
   "source": [
    "import numpy as np\n",
    "import pandas as pd \n"
   ]
  },
  {
   "cell_type": "markdown",
   "id": "d16547ed-0d1a-4ad8-ac5f-9f9b5b4e4bd2",
   "metadata": {},
   "source": [
    "# Import dataset"
   ]
  },
  {
   "cell_type": "code",
   "execution_count": 3,
   "id": "9c03d0a1-6fda-4804-8beb-a494182f0d2a",
   "metadata": {},
   "outputs": [
    {
     "data": {
      "text/html": [
       "<div>\n",
       "<style scoped>\n",
       "    .dataframe tbody tr th:only-of-type {\n",
       "        vertical-align: middle;\n",
       "    }\n",
       "\n",
       "    .dataframe tbody tr th {\n",
       "        vertical-align: top;\n",
       "    }\n",
       "\n",
       "    .dataframe thead th {\n",
       "        text-align: right;\n",
       "    }\n",
       "</style>\n",
       "<table border=\"1\" class=\"dataframe\">\n",
       "  <thead>\n",
       "    <tr style=\"text-align: right;\">\n",
       "      <th></th>\n",
       "      <th>Year</th>\n",
       "      <th>Date_of_Filing</th>\n",
       "      <th>Date_of_Expiration</th>\n",
       "      <th>IP_Case_ID</th>\n",
       "      <th>IP_Type</th>\n",
       "      <th>IP_Application_Status</th>\n",
       "      <th>Processing_Time_Days</th>\n",
       "      <th>Approval_Rate_percentage</th>\n",
       "      <th>Rejection_Reasons</th>\n",
       "      <th>Number_of_Opposition_Cases_Received</th>\n",
       "      <th>Number_of_Infringement_Cases</th>\n",
       "      <th>IP_Filing_State</th>\n",
       "      <th>Pre_IP_Action_Revenue(INR)</th>\n",
       "      <th>Post_IP_Action_Revenue(INR)</th>\n",
       "      <th>Enforcement_Cost(INR)</th>\n",
       "    </tr>\n",
       "  </thead>\n",
       "  <tbody>\n",
       "    <tr>\n",
       "      <th>0</th>\n",
       "      <td>2024</td>\n",
       "      <td>45370</td>\n",
       "      <td>46157</td>\n",
       "      <td>IP-4500</td>\n",
       "      <td>Trade Secret</td>\n",
       "      <td>Pending</td>\n",
       "      <td>499.0</td>\n",
       "      <td>92.25</td>\n",
       "      <td>NaN</td>\n",
       "      <td>2</td>\n",
       "      <td>1</td>\n",
       "      <td>Tamil Nadu</td>\n",
       "      <td>223840.19</td>\n",
       "      <td>422333.10</td>\n",
       "      <td>62209.78</td>\n",
       "    </tr>\n",
       "    <tr>\n",
       "      <th>1</th>\n",
       "      <td>2023</td>\n",
       "      <td>45092</td>\n",
       "      <td>46289</td>\n",
       "      <td>IP-4772</td>\n",
       "      <td>Copyright</td>\n",
       "      <td>Rejected</td>\n",
       "      <td>363.0</td>\n",
       "      <td>43.91</td>\n",
       "      <td>NaN</td>\n",
       "      <td>2</td>\n",
       "      <td>1</td>\n",
       "      <td>Punjab</td>\n",
       "      <td>338300.05</td>\n",
       "      <td>378851.26</td>\n",
       "      <td>51887.05</td>\n",
       "    </tr>\n",
       "    <tr>\n",
       "      <th>2</th>\n",
       "      <td>2024</td>\n",
       "      <td>45481</td>\n",
       "      <td>48168</td>\n",
       "      <td>IP-6055</td>\n",
       "      <td>Industrial Design</td>\n",
       "      <td>Registered</td>\n",
       "      <td>514.0</td>\n",
       "      <td>82.68</td>\n",
       "      <td>NaN</td>\n",
       "      <td>2</td>\n",
       "      <td>1</td>\n",
       "      <td>Karnataka</td>\n",
       "      <td>141143.15</td>\n",
       "      <td>177737.48</td>\n",
       "      <td>38161.51</td>\n",
       "    </tr>\n",
       "    <tr>\n",
       "      <th>3</th>\n",
       "      <td>2023</td>\n",
       "      <td>45095</td>\n",
       "      <td>48139</td>\n",
       "      <td>IP-4243</td>\n",
       "      <td>Trade Secret</td>\n",
       "      <td>Pending</td>\n",
       "      <td>249.0</td>\n",
       "      <td>86.82</td>\n",
       "      <td>Incomplete Docs</td>\n",
       "      <td>2</td>\n",
       "      <td>1</td>\n",
       "      <td>Madhya Pradesh</td>\n",
       "      <td>192693.25</td>\n",
       "      <td>265472.82</td>\n",
       "      <td>44187.54</td>\n",
       "    </tr>\n",
       "    <tr>\n",
       "      <th>4</th>\n",
       "      <td>2024</td>\n",
       "      <td>45344</td>\n",
       "      <td>46226</td>\n",
       "      <td>IP-8851</td>\n",
       "      <td>Industrial Design</td>\n",
       "      <td>Pending</td>\n",
       "      <td>312.0</td>\n",
       "      <td>74.14</td>\n",
       "      <td>NaN</td>\n",
       "      <td>2</td>\n",
       "      <td>1</td>\n",
       "      <td>Assam</td>\n",
       "      <td>166170.68</td>\n",
       "      <td>340283.49</td>\n",
       "      <td>96641.57</td>\n",
       "    </tr>\n",
       "  </tbody>\n",
       "</table>\n",
       "</div>"
      ],
      "text/plain": [
       "   Year  Date_of_Filing  Date_of_Expiration IP_Case_ID            IP_Type  \\\n",
       "0  2024           45370               46157    IP-4500       Trade Secret   \n",
       "1  2023           45092               46289    IP-4772          Copyright   \n",
       "2  2024           45481               48168    IP-6055  Industrial Design   \n",
       "3  2023           45095               48139    IP-4243       Trade Secret   \n",
       "4  2024           45344               46226    IP-8851  Industrial Design   \n",
       "\n",
       "  IP_Application_Status  Processing_Time_Days  Approval_Rate_percentage  \\\n",
       "0               Pending                 499.0                     92.25   \n",
       "1              Rejected                 363.0                     43.91   \n",
       "2            Registered                 514.0                     82.68   \n",
       "3               Pending                 249.0                     86.82   \n",
       "4               Pending                 312.0                     74.14   \n",
       "\n",
       "  Rejection_Reasons  Number_of_Opposition_Cases_Received  \\\n",
       "0               NaN                                    2   \n",
       "1               NaN                                    2   \n",
       "2               NaN                                    2   \n",
       "3   Incomplete Docs                                    2   \n",
       "4               NaN                                    2   \n",
       "\n",
       "   Number_of_Infringement_Cases IP_Filing_State   Pre_IP_Action_Revenue(INR)  \\\n",
       "0                             1       Tamil Nadu                   223840.19   \n",
       "1                             1           Punjab                   338300.05   \n",
       "2                             1        Karnataka                   141143.15   \n",
       "3                             1   Madhya Pradesh                   192693.25   \n",
       "4                             1            Assam                   166170.68   \n",
       "\n",
       "   Post_IP_Action_Revenue(INR)  Enforcement_Cost(INR)  \n",
       "0                    422333.10               62209.78  \n",
       "1                    378851.26               51887.05  \n",
       "2                    177737.48               38161.51  \n",
       "3                    265472.82               44187.54  \n",
       "4                    340283.49               96641.57  "
      ]
     },
     "execution_count": 3,
     "metadata": {},
     "output_type": "execute_result"
    }
   ],
   "source": [
    "data=pd.read_excel(r\"C:\\Users\\ASUS\\OneDrive\\Desktop\\IP_Filing\\Ip filling 1.xlsx\")\n",
    "data.head()"
   ]
  },
  {
   "cell_type": "code",
   "execution_count": 4,
   "id": "67cb2e1f-4598-42b3-9ff1-6edf60eb03f9",
   "metadata": {},
   "outputs": [
    {
     "name": "stdout",
     "output_type": "stream",
     "text": [
      "<class 'pandas.core.frame.DataFrame'>\n",
      "RangeIndex: 1000 entries, 0 to 999\n",
      "Data columns (total 15 columns):\n",
      " #   Column                               Non-Null Count  Dtype  \n",
      "---  ------                               --------------  -----  \n",
      " 0   Year                                 1000 non-null   int64  \n",
      " 1   Date_of_Filing                       1000 non-null   int64  \n",
      " 2   Date_of_Expiration                   1000 non-null   int64  \n",
      " 3   IP_Case_ID                           1000 non-null   object \n",
      " 4   IP_Type                              1000 non-null   object \n",
      " 5   IP_Application_Status                1000 non-null   object \n",
      " 6   Processing_Time_Days                 1000 non-null   float64\n",
      " 7   Approval_Rate_percentage             1000 non-null   float64\n",
      " 8   Rejection_Reasons                    425 non-null    object \n",
      " 9   Number_of_Opposition_Cases_Received  1000 non-null   int64  \n",
      " 10  Number_of_Infringement_Cases         1000 non-null   int64  \n",
      " 11  IP_Filing_State                      1000 non-null   object \n",
      " 12  Pre_IP_Action_Revenue(INR)           1000 non-null   float64\n",
      " 13  Post_IP_Action_Revenue(INR)          965 non-null    float64\n",
      " 14  Enforcement_Cost(INR)                978 non-null    float64\n",
      "dtypes: float64(5), int64(5), object(5)\n",
      "memory usage: 117.3+ KB\n"
     ]
    }
   ],
   "source": [
    "data.info()"
   ]
  },
  {
   "cell_type": "markdown",
   "id": "71763f47-6945-4968-8d70-64e6c5be6105",
   "metadata": {},
   "source": [
    "# Year Column "
   ]
  },
  {
   "cell_type": "code",
   "execution_count": 7,
   "id": "ea12fb1a-4d4d-4de9-94d6-091beba4d518",
   "metadata": {},
   "outputs": [
    {
     "data": {
      "text/plain": [
       "0    2024\n",
       "1    2023\n",
       "2    2024\n",
       "3    2023\n",
       "4    2024\n",
       "Name: Year, dtype: int64"
      ]
     },
     "execution_count": 7,
     "metadata": {},
     "output_type": "execute_result"
    }
   ],
   "source": [
    "data[\"Year\"].head() # It does not contains any null values"
   ]
  },
  {
   "cell_type": "markdown",
   "id": "f86c1d10-123d-434a-aa73-466b12976869",
   "metadata": {},
   "source": [
    "# Check if any of the cell present negative number!!"
   ]
  },
  {
   "cell_type": "code",
   "execution_count": 9,
   "id": "3db68e15-b031-4dff-a63f-96bc8126f4ab",
   "metadata": {},
   "outputs": [
    {
     "name": "stdout",
     "output_type": "stream",
     "text": [
      "[]\n",
      "Complete\n"
     ]
    }
   ],
   "source": [
    "df=data[\"Year\"]\n",
    "l1=[]\n",
    "for i in df:\n",
    "    if i<0:\n",
    "        print(\"negative detected\")\n",
    "        l1.append(i)\n",
    "print(l1)        \n",
    "print(\"Complete\")       # Their is no negative year present "
   ]
  },
  {
   "cell_type": "markdown",
   "id": "07d5d1e1-ec97-49bb-b1cc-b09ff4a683d8",
   "metadata": {},
   "source": [
    "# Date_of_Filing Column "
   ]
  },
  {
   "cell_type": "code",
   "execution_count": 15,
   "id": "79be05c2-e84d-4a34-831e-dfab5f4d61ec",
   "metadata": {},
   "outputs": [
    {
     "data": {
      "text/plain": [
       "0      45370\n",
       "1      45092\n",
       "2      45481\n",
       "3      45095\n",
       "4      45344\n",
       "       ...  \n",
       "995    45091\n",
       "996    45612\n",
       "997    45052\n",
       "998    45024\n",
       "999    45511\n",
       "Name: Date_of_Filing, Length: 1000, dtype: int64"
      ]
     },
     "execution_count": 15,
     "metadata": {},
     "output_type": "execute_result"
    }
   ],
   "source": [
    "data[\"Date_of_Filing\"]\n"
   ]
  },
  {
   "cell_type": "code",
   "execution_count": 17,
   "id": "b203148b-9293-4e37-baf4-c8983af3aa27",
   "metadata": {},
   "outputs": [],
   "source": [
    "# Change the Data type to date time:-\n",
    "data[\"Date_of_Filing\"]=pd.to_datetime(data[\"Date_of_Filing\"],origin='1899-12-30',unit='D')"
   ]
  },
  {
   "cell_type": "code",
   "execution_count": 19,
   "id": "4124bb3c-07b7-4ff0-ad61-931c1895465d",
   "metadata": {},
   "outputs": [
    {
     "data": {
      "text/plain": [
       "0     2024-03-19\n",
       "1     2023-06-15\n",
       "2     2024-07-08\n",
       "3     2023-06-18\n",
       "4     2024-02-22\n",
       "         ...    \n",
       "995   2023-06-14\n",
       "996   2024-11-16\n",
       "997   2023-05-06\n",
       "998   2023-04-08\n",
       "999   2024-08-07\n",
       "Name: Date_of_Filing, Length: 1000, dtype: datetime64[ns]"
      ]
     },
     "execution_count": 19,
     "metadata": {},
     "output_type": "execute_result"
    }
   ],
   "source": [
    "data[\"Date_of_Filing\"]"
   ]
  },
  {
   "cell_type": "markdown",
   "id": "3181ab31-88f4-4f1b-b7bf-9ca2e0a18adc",
   "metadata": {},
   "source": [
    "# Date_of_Expiration "
   ]
  },
  {
   "cell_type": "code",
   "execution_count": 22,
   "id": "cc78a3f7-3182-45ed-be5f-b43b63c26700",
   "metadata": {},
   "outputs": [
    {
     "data": {
      "text/plain": [
       "0      46157\n",
       "1      46289\n",
       "2      48168\n",
       "3      48139\n",
       "4      46226\n",
       "       ...  \n",
       "995    45750\n",
       "996    46667\n",
       "997    46873\n",
       "998    47624\n",
       "999    48184\n",
       "Name: Date_of_Expiration, Length: 1000, dtype: int64"
      ]
     },
     "execution_count": 22,
     "metadata": {},
     "output_type": "execute_result"
    }
   ],
   "source": [
    "data[\"Date_of_Expiration\"]"
   ]
  },
  {
   "cell_type": "code",
   "execution_count": 24,
   "id": "bb5fb675-cf78-401a-9386-ef9224bfb368",
   "metadata": {},
   "outputs": [],
   "source": [
    "# Change the Data Type to Date time :-\n",
    "data[\"Date_of_Expiration\"]=pd.to_datetime(data[\"Date_of_Expiration\"],origin='1899-12-30',unit='D')"
   ]
  },
  {
   "cell_type": "code",
   "execution_count": 26,
   "id": "377f9366-a37e-4c68-bada-095b37fa4a03",
   "metadata": {},
   "outputs": [
    {
     "data": {
      "text/plain": [
       "0     2026-05-15\n",
       "1     2026-09-24\n",
       "2     2031-11-16\n",
       "3     2031-10-18\n",
       "4     2026-07-23\n",
       "         ...    \n",
       "995   2025-04-03\n",
       "996   2027-10-07\n",
       "997   2028-04-30\n",
       "998   2030-05-21\n",
       "999   2031-12-02\n",
       "Name: Date_of_Expiration, Length: 1000, dtype: datetime64[ns]"
      ]
     },
     "execution_count": 26,
     "metadata": {},
     "output_type": "execute_result"
    }
   ],
   "source": [
    "data[\"Date_of_Expiration\"]"
   ]
  },
  {
   "cell_type": "markdown",
   "id": "c7ea8181-e909-49b7-8cbb-7d207322d4e7",
   "metadata": {},
   "source": [
    "# IP_Case_ID  Column "
   ]
  },
  {
   "cell_type": "code",
   "execution_count": 29,
   "id": "26514b7b-4bc9-4c95-b79f-bb38a95bcc53",
   "metadata": {},
   "outputs": [
    {
     "data": {
      "text/plain": [
       "0      IP-4500\n",
       "1      IP-4772\n",
       "2      IP-6055\n",
       "3      IP-4243\n",
       "4      IP-8851\n",
       "        ...   \n",
       "995    IP-4292\n",
       "996    IP-4565\n",
       "997    IP-5447\n",
       "998    IP-5876\n",
       "999    IP-1846\n",
       "Name: IP_Case_ID, Length: 1000, dtype: object"
      ]
     },
     "execution_count": 29,
     "metadata": {},
     "output_type": "execute_result"
    }
   ],
   "source": [
    "data[\"IP_Case_ID\"]"
   ]
  },
  {
   "cell_type": "code",
   "execution_count": 31,
   "id": "88515eb5-6da5-4daf-8df9-42efc99fa7b7",
   "metadata": {},
   "outputs": [
    {
     "name": "stdout",
     "output_type": "stream",
     "text": [
      "55\n",
      "0\n"
     ]
    }
   ],
   "source": [
    "# Check for Duplicated cell\n",
    "x=data[\"IP_Case_ID\"].duplicated().sum()\n",
    "print(x)\n",
    "# Check for Null cell\n",
    "y=data[\"IP_Case_ID\"].isnull().sum()\n",
    "print(y)\n",
    "\n",
    "\n"
   ]
  },
  {
   "cell_type": "code",
   "execution_count": 33,
   "id": "dd0f7df8-41d5-4456-9483-efc8c98465b1",
   "metadata": {},
   "outputs": [
    {
     "data": {
      "text/plain": [
       "0      True\n",
       "1      True\n",
       "2      True\n",
       "3      True\n",
       "4      True\n",
       "       ... \n",
       "995    True\n",
       "996    True\n",
       "997    True\n",
       "998    True\n",
       "999    True\n",
       "Name: IP_Case_ID, Length: 1000, dtype: bool"
      ]
     },
     "execution_count": 33,
     "metadata": {},
     "output_type": "execute_result"
    }
   ],
   "source": [
    "# IF IP is in small case then made it to capital letters \n",
    "data['IP_Case_ID'].str.isupper()\n"
   ]
  },
  {
   "cell_type": "code",
   "execution_count": 35,
   "id": "8a56e838-8d75-4594-899b-60f4c0de602c",
   "metadata": {},
   "outputs": [],
   "source": [
    "data['IP_Case_ID']=data['IP_Case_ID'].astype('object')"
   ]
  },
  {
   "cell_type": "code",
   "execution_count": 37,
   "id": "50a970c3-9bcb-48cb-9ff2-3bd22f483e39",
   "metadata": {},
   "outputs": [
    {
     "data": {
      "text/plain": [
       "0      IP-4500\n",
       "1      IP-4772\n",
       "2      IP-6055\n",
       "3      IP-4243\n",
       "4      IP-8851\n",
       "        ...   \n",
       "995    IP-4292\n",
       "996    IP-4565\n",
       "997    IP-5447\n",
       "998    IP-5876\n",
       "999    IP-1846\n",
       "Name: IP_Case_ID, Length: 1000, dtype: object"
      ]
     },
     "execution_count": 37,
     "metadata": {},
     "output_type": "execute_result"
    }
   ],
   "source": [
    "data['IP_Case_ID']"
   ]
  },
  {
   "cell_type": "markdown",
   "id": "0c06df9f-9240-4f83-8c42-f5ded164e6bf",
   "metadata": {},
   "source": [
    "# IP_Type Column "
   ]
  },
  {
   "cell_type": "code",
   "execution_count": 40,
   "id": "58ccd656-390b-4ef7-be63-f6baaac00824",
   "metadata": {},
   "outputs": [
    {
     "data": {
      "text/plain": [
       "0           Trade Secret\n",
       "1              Copyright\n",
       "2      Industrial Design\n",
       "3           Trade Secret\n",
       "4      Industrial Design\n",
       "             ...        \n",
       "995               Patent\n",
       "996               Patent\n",
       "997               Patent\n",
       "998               Patent\n",
       "999               Patent\n",
       "Name: IP_Type, Length: 1000, dtype: object"
      ]
     },
     "execution_count": 40,
     "metadata": {},
     "output_type": "execute_result"
    }
   ],
   "source": [
    "data['IP_Type']"
   ]
  },
  {
   "cell_type": "code",
   "execution_count": 42,
   "id": "49370784-3590-4c87-a70b-c5bedf09b0f5",
   "metadata": {},
   "outputs": [
    {
     "data": {
      "text/plain": [
       "0"
      ]
     },
     "execution_count": 42,
     "metadata": {},
     "output_type": "execute_result"
    }
   ],
   "source": [
    "# Checking Null \n",
    "data['IP_Type'].isnull().sum()"
   ]
  },
  {
   "cell_type": "code",
   "execution_count": 44,
   "id": "3278b296-2475-4333-bf8e-b0673a3a8e4e",
   "metadata": {},
   "outputs": [],
   "source": [
    "# Change the data type to string\n",
    "data['IP_Type']=data['IP_Type'].astype('string')"
   ]
  },
  {
   "cell_type": "code",
   "execution_count": 46,
   "id": "b71f088e-425d-4233-914d-1b29abbe99af",
   "metadata": {},
   "outputs": [],
   "source": [
    "# Make first letter capital and rest small\n",
    "data['IP_Type']=data['IP_Type'].str.capitalize()"
   ]
  },
  {
   "cell_type": "markdown",
   "id": "6f24323f-f8f3-423a-bf9c-2c322ec4e89c",
   "metadata": {},
   "source": [
    "# IP_Application_Status Column"
   ]
  },
  {
   "cell_type": "code",
   "execution_count": 49,
   "id": "c0a9a578-dc06-479a-9dc8-a4f688ea2985",
   "metadata": {},
   "outputs": [
    {
     "data": {
      "text/plain": [
       "0         Pending\n",
       "1        Rejected\n",
       "2      Registered\n",
       "3         Pending\n",
       "4         Pending\n",
       "          ...    \n",
       "995       Pending\n",
       "996      Rejected\n",
       "997      Rejected\n",
       "998       Pending\n",
       "999    Registered\n",
       "Name: IP_Application_Status, Length: 1000, dtype: object"
      ]
     },
     "execution_count": 49,
     "metadata": {},
     "output_type": "execute_result"
    }
   ],
   "source": [
    "data['IP_Application_Status']"
   ]
  },
  {
   "cell_type": "code",
   "execution_count": 51,
   "id": "2e22eec6-7270-4f54-9247-1eb906547cb4",
   "metadata": {},
   "outputs": [
    {
     "data": {
      "text/plain": [
       "0"
      ]
     },
     "execution_count": 51,
     "metadata": {},
     "output_type": "execute_result"
    }
   ],
   "source": [
    "# Checking null values \n",
    "data['IP_Application_Status'].isnull().sum()"
   ]
  },
  {
   "cell_type": "code",
   "execution_count": 53,
   "id": "0e1ad179-cb53-4ae3-aad5-a35a8cfedd52",
   "metadata": {},
   "outputs": [],
   "source": [
    "# Make first letter capital and rest small \n",
    "data['IP_Application_Status']=data['IP_Application_Status'].str.capitalize()\n",
    "data['IP_Application_Status']=data['IP_Application_Status'].astype('string') # Change data type to string"
   ]
  },
  {
   "cell_type": "code",
   "execution_count": 55,
   "id": "896f5c02-6535-4305-bdd0-37ce21f018b6",
   "metadata": {},
   "outputs": [
    {
     "data": {
      "text/plain": [
       "<StringArray>\n",
       "['Pending', 'Rejected', 'Registered']\n",
       "Length: 3, dtype: string"
      ]
     },
     "execution_count": 55,
     "metadata": {},
     "output_type": "execute_result"
    }
   ],
   "source": [
    "data['IP_Application_Status'].unique()"
   ]
  },
  {
   "cell_type": "markdown",
   "id": "4bfcb7e6-cc18-497b-a2be-a38e77e45cdf",
   "metadata": {},
   "source": [
    "# Processing_Time_Days Column "
   ]
  },
  {
   "cell_type": "code",
   "execution_count": 58,
   "id": "279b394d-9890-462d-ab49-f3dc5a314318",
   "metadata": {},
   "outputs": [
    {
     "data": {
      "text/plain": [
       "0      499.0\n",
       "1      363.0\n",
       "2      514.0\n",
       "3      249.0\n",
       "4      312.0\n",
       "       ...  \n",
       "995     45.0\n",
       "996    583.0\n",
       "997    368.5\n",
       "998    386.0\n",
       "999    368.5\n",
       "Name: Processing_Time_Days, Length: 1000, dtype: float64"
      ]
     },
     "execution_count": 58,
     "metadata": {},
     "output_type": "execute_result"
    }
   ],
   "source": [
    "data['Processing_Time_Days']"
   ]
  },
  {
   "cell_type": "code",
   "execution_count": 60,
   "id": "5d0ba3d3-d988-4a2d-a727-38e8debca714",
   "metadata": {},
   "outputs": [
    {
     "data": {
      "text/plain": [
       "0"
      ]
     },
     "execution_count": 60,
     "metadata": {},
     "output_type": "execute_result"
    }
   ],
   "source": [
    "data['Processing_Time_Days'].isnull().sum()"
   ]
  },
  {
   "cell_type": "code",
   "execution_count": 62,
   "id": "e22e72cb-6724-47d6-a399-e20cd1c63ca0",
   "metadata": {},
   "outputs": [
    {
     "name": "stdout",
     "output_type": "stream",
     "text": [
      "[]\n"
     ]
    }
   ],
   "source": [
    "# Check if any negative number present or not\n",
    "x=data['Processing_Time_Days']\n",
    "l2=[]\n",
    "for i in x:\n",
    "    if i<0:\n",
    "        print(\"negative Number\")\n",
    "        l2.append(i)\n",
    "print(l2)       # Not negative number present \n"
   ]
  },
  {
   "cell_type": "markdown",
   "id": "499a632e-83c5-45a8-a8ad-0d6d4f208470",
   "metadata": {},
   "source": [
    "# Approval_Rate_percentage Column "
   ]
  },
  {
   "cell_type": "code",
   "execution_count": 65,
   "id": "0cfe8e1f-b6f0-47ca-81ae-81c0d6b752f1",
   "metadata": {},
   "outputs": [
    {
     "data": {
      "text/plain": [
       "0      92.25\n",
       "1      43.91\n",
       "2      82.68\n",
       "3      86.82\n",
       "4      74.14\n",
       "       ...  \n",
       "995    92.96\n",
       "996    92.64\n",
       "997    86.28\n",
       "998    35.67\n",
       "999    46.34\n",
       "Name: Approval_Rate_percentage, Length: 1000, dtype: float64"
      ]
     },
     "execution_count": 65,
     "metadata": {},
     "output_type": "execute_result"
    }
   ],
   "source": [
    "data['Approval_Rate_percentage']"
   ]
  },
  {
   "cell_type": "code",
   "execution_count": 67,
   "id": "57580a13-ff19-42d3-8f99-237ca7369898",
   "metadata": {},
   "outputs": [
    {
     "data": {
      "text/plain": [
       "0"
      ]
     },
     "execution_count": 67,
     "metadata": {},
     "output_type": "execute_result"
    }
   ],
   "source": [
    "# Checking Null value \n",
    "data['Approval_Rate_percentage'].isnull().sum()"
   ]
  },
  {
   "cell_type": "code",
   "execution_count": 69,
   "id": "840dceae-17f7-4c21-a61b-9c95f45ac554",
   "metadata": {},
   "outputs": [
    {
     "name": "stdout",
     "output_type": "stream",
     "text": [
      "[]\n"
     ]
    }
   ],
   "source": [
    "# Check if any negative number present or not\n",
    "y=data['Approval_Rate_percentage']\n",
    "l3=[]\n",
    "for i in y:\n",
    "    if i<0:\n",
    "        print(\"Negative Detected\")\n",
    "        l3.append(i)\n",
    "print(l3) # Not any negative number detected       "
   ]
  },
  {
   "cell_type": "code",
   "execution_count": 71,
   "id": "9bf38abf-2a20-46ec-b401-fb7dc505c469",
   "metadata": {},
   "outputs": [
    {
     "name": "stdout",
     "output_type": "stream",
     "text": [
      "[]\n"
     ]
    }
   ],
   "source": [
    "# Check If the percentage is above hundred detected\n",
    "y=data['Approval_Rate_percentage']\n",
    "l4=[]\n",
    "for i in y:\n",
    "    if i>100:\n",
    "        print(\"Upper value found\")\n",
    "        l4.append(i)\n",
    "print(l4)      # Not any value present greater than 100  "
   ]
  },
  {
   "cell_type": "markdown",
   "id": "d4c9df71-fbd2-4bba-8ecd-ba6afc084836",
   "metadata": {},
   "source": [
    "# Rejection_Reasons Column "
   ]
  },
  {
   "cell_type": "code",
   "execution_count": 74,
   "id": "8731087a-f500-48f7-b4fe-98c69e21ab8f",
   "metadata": {},
   "outputs": [
    {
     "data": {
      "text/plain": [
       "0                  NaN\n",
       "1                  NaN\n",
       "2                  NaN\n",
       "3      Incomplete Docs\n",
       "4                  NaN\n",
       "            ...       \n",
       "995                NaN\n",
       "996         Similarity\n",
       "997                NaN\n",
       "998         Similarity\n",
       "999                NaN\n",
       "Name: Rejection_Reasons, Length: 1000, dtype: object"
      ]
     },
     "execution_count": 74,
     "metadata": {},
     "output_type": "execute_result"
    }
   ],
   "source": [
    "data['Rejection_Reasons']"
   ]
  },
  {
   "cell_type": "code",
   "execution_count": 76,
   "id": "cc970249-dbb7-416d-8aa7-ac471f69dd81",
   "metadata": {},
   "outputs": [
    {
     "data": {
      "text/plain": [
       "0               <NA>\n",
       "1               <NA>\n",
       "2               <NA>\n",
       "3    Incomplete Docs\n",
       "4               <NA>\n",
       "Name: Rejection_Reasons, dtype: string"
      ]
     },
     "execution_count": 76,
     "metadata": {},
     "output_type": "execute_result"
    }
   ],
   "source": [
    "# Change the Data tytpe to string\n",
    "data['Rejection_Reasons'].astype('string').head()"
   ]
  },
  {
   "cell_type": "markdown",
   "id": "1d8d4633-2696-4ad3-9dc9-c4cf82d94124",
   "metadata": {},
   "source": [
    " # Number_of_Opposition_Cases_Received Column "
   ]
  },
  {
   "cell_type": "code",
   "execution_count": 79,
   "id": "da29a423-2d96-44cd-9442-bb7f078483eb",
   "metadata": {},
   "outputs": [
    {
     "data": {
      "text/plain": [
       "0    2\n",
       "1    2\n",
       "2    2\n",
       "3    2\n",
       "4    2\n",
       "Name: Number_of_Opposition_Cases_Received, dtype: int64"
      ]
     },
     "execution_count": 79,
     "metadata": {},
     "output_type": "execute_result"
    }
   ],
   "source": [
    "data['Number_of_Opposition_Cases_Received'].head()"
   ]
  },
  {
   "cell_type": "code",
   "execution_count": 81,
   "id": "8544c46a-4d0c-44bf-b093-5a3a0d4d1b91",
   "metadata": {},
   "outputs": [
    {
     "data": {
      "text/plain": [
       "0"
      ]
     },
     "execution_count": 81,
     "metadata": {},
     "output_type": "execute_result"
    }
   ],
   "source": [
    "# Checking Null cell iof present \n",
    "data['Number_of_Opposition_Cases_Received'].isnull().sum()"
   ]
  },
  {
   "cell_type": "code",
   "execution_count": 83,
   "id": "b81a646c-df6a-48a3-b743-097e4c9ab1ee",
   "metadata": {},
   "outputs": [
    {
     "data": {
      "text/plain": [
       "<Axes: ylabel='Number_of_Opposition_Cases_Received'>"
      ]
     },
     "execution_count": 83,
     "metadata": {},
     "output_type": "execute_result"
    },
    {
     "data": {
      "image/png": "[encoded data removed]",
      "text/plain": [
       "<Figure size 640x480 with 1 Axes>"
      ]
     },
     "metadata": {},
     "output_type": "display_data"
    }
   ],
   "source": [
    "# Checking Outliers if Present:-\n",
    "import seaborn as sns \n",
    "plot=sns.boxplot(data['Number_of_Opposition_Cases_Received'])\n",
    "plot # Outliers detected"
   ]
  },
  {
   "cell_type": "code",
   "execution_count": 84,
   "id": "e2342e8d-aabb-4eb0-aba4-b7af21836e1e",
   "metadata": {},
   "outputs": [
    {
     "data": {
      "text/plain": [
       "' According to the statistics perspective 4 and 5 are outliers but if you think as an analyst they are just a rare number which we can \\nnot treat as an outliers some companies have such numbers of opposition cases so we can not replace the value 4 and 5'"
      ]
     },
     "execution_count": 84,
     "metadata": {},
     "output_type": "execute_result"
    }
   ],
   "source": [
    "''' According to the statistics perspective 4 and 5 are outliers but if you think as an analyst they are just a rare number which we can \n",
    "not treat as an outliers some companies have such numbers of opposition cases so we can not replace the value 4 and 5''' "
   ]
  },
  {
   "cell_type": "code",
   "execution_count": 85,
   "id": "20b4cdb4-3d59-4602-856a-4e1ba33af949",
   "metadata": {},
   "outputs": [
    {
     "name": "stdout",
     "output_type": "stream",
     "text": [
      "[]\n"
     ]
    }
   ],
   "source": [
    "# Checking if negative number are present or not:-\n",
    "c=data['Number_of_Opposition_Cases_Received']\n",
    "l4=[]\n",
    "for i in c:\n",
    "    if i<0:\n",
    "        print('Negative value identified')\n",
    "        l4.append(i)\n",
    "print(l4)        # negative value is not present"
   ]
  },
  {
   "cell_type": "markdown",
   "id": "0dab280c-460d-4fe8-869e-c9815f6e7a35",
   "metadata": {},
   "source": [
    "# Number_of_Infringement_Cases Column "
   ]
  },
  {
   "cell_type": "code",
   "execution_count": 87,
   "id": "7558ab31-e01c-48c8-897a-6ff5fbb37903",
   "metadata": {},
   "outputs": [
    {
     "data": {
      "text/plain": [
       "0      1\n",
       "1      1\n",
       "2      1\n",
       "3      1\n",
       "4      1\n",
       "      ..\n",
       "995    1\n",
       "996    1\n",
       "997    3\n",
       "998    1\n",
       "999    1\n",
       "Name: Number_of_Infringement_Cases, Length: 1000, dtype: int64"
      ]
     },
     "execution_count": 87,
     "metadata": {},
     "output_type": "execute_result"
    }
   ],
   "source": [
    "data['Number_of_Infringement_Cases']"
   ]
  },
  {
   "cell_type": "code",
   "execution_count": 88,
   "id": "bce98be4-c251-405e-8cc6-a40548179715",
   "metadata": {},
   "outputs": [
    {
     "name": "stdout",
     "output_type": "stream",
     "text": [
      "[]\n"
     ]
    }
   ],
   "source": [
    "# Checking the negative value is present or not:-\n",
    "d=data['Number_of_Infringement_Cases']\n",
    "l5=[]\n",
    "for i in d:\n",
    "    if i<0:\n",
    "        print('Negative value identified')\n",
    "        l5.append(i)\n",
    "print(l5) # No negative value present\n"
   ]
  },
  {
   "cell_type": "code",
   "execution_count": 89,
   "id": "148328e3-5ddc-4582-927b-8d2c6303dc9f",
   "metadata": {},
   "outputs": [
    {
     "data": {
      "text/plain": [
       "<Axes: ylabel='Number_of_Infringement_Cases'>"
      ]
     },
     "execution_count": 89,
     "metadata": {},
     "output_type": "execute_result"
    },
    {
     "data": {
      "image/png": "[encoded data removed]",
      "text/plain": [
       "<Figure size 640x480 with 1 Axes>"
      ]
     },
     "metadata": {},
     "output_type": "display_data"
    }
   ],
   "source": [
    "# Checking Outliers :-\n",
    "plot2=sns.boxplot(data['Number_of_Infringement_Cases'])\n",
    "plot2 # We can not treat them as an outlier "
   ]
  },
  {
   "cell_type": "code",
   "execution_count": 90,
   "id": "eadd5e53-0f3d-4b01-9cf0-1f4157370bca",
   "metadata": {},
   "outputs": [
    {
     "data": {
      "text/plain": [
       "dtype('int64')"
      ]
     },
     "execution_count": 90,
     "metadata": {},
     "output_type": "execute_result"
    }
   ],
   "source": [
    "# Checking Datatype \n",
    "data['Number_of_Infringement_Cases'].dtype"
   ]
  },
  {
   "cell_type": "markdown",
   "id": "0d9e44fb-b5ed-4922-8c56-1f7c4247cfad",
   "metadata": {},
   "source": [
    "#  IP_Filing_State Column "
   ]
  },
  {
   "cell_type": "code",
   "execution_count": 92,
   "id": "e149ec09-b503-4011-90f5-cb12f4999d28",
   "metadata": {},
   "outputs": [
    {
     "data": {
      "text/plain": [
       "0          Tamil Nadu\n",
       "1              Punjab\n",
       "2           Karnataka\n",
       "3      Madhya Pradesh\n",
       "4               Assam\n",
       "            ...      \n",
       "995       Maharashtra\n",
       "996             Bihar\n",
       "997    Madhya Pradesh\n",
       "998     Uttar Pradesh\n",
       "999             Assam\n",
       "Name: IP_Filing_State , Length: 1000, dtype: object"
      ]
     },
     "execution_count": 92,
     "metadata": {},
     "output_type": "execute_result"
    }
   ],
   "source": [
    "data[\"IP_Filing_State \"]"
   ]
  },
  {
   "cell_type": "code",
   "execution_count": 93,
   "id": "f8a32f9e-8068-45a3-a44a-587a960086e5",
   "metadata": {},
   "outputs": [
    {
     "data": {
      "text/plain": [
       "0"
      ]
     },
     "execution_count": 93,
     "metadata": {},
     "output_type": "execute_result"
    }
   ],
   "source": [
    "# Checking Null Values \n",
    "data[\"IP_Filing_State \"].isnull().sum()"
   ]
  },
  {
   "cell_type": "code",
   "execution_count": 94,
   "id": "628e18a3-81d5-47db-b1ed-bc4e64089d8e",
   "metadata": {},
   "outputs": [],
   "source": [
    "# Make first capital letter and rest in small\n",
    "data[\"IP_Filing_State \"]=data[\"IP_Filing_State \"].str.capitalize()"
   ]
  },
  {
   "cell_type": "code",
   "execution_count": 95,
   "id": "ddbe6fc1-6dfe-49f9-9b88-f13d359e937a",
   "metadata": {},
   "outputs": [],
   "source": [
    "# Change the Data Type to string \n",
    "data[\"IP_Filing_State \"]=data[\"IP_Filing_State \"].astype('string')"
   ]
  },
  {
   "cell_type": "code",
   "execution_count": 96,
   "id": "09182c9e-7468-461c-8672-72bcd04924c8",
   "metadata": {},
   "outputs": [
    {
     "data": {
      "text/plain": [
       "0          Tamil nadu\n",
       "1              Punjab\n",
       "2           Karnataka\n",
       "3      Madhya pradesh\n",
       "4               Assam\n",
       "            ...      \n",
       "995       Maharashtra\n",
       "996             Bihar\n",
       "997    Madhya pradesh\n",
       "998     Uttar pradesh\n",
       "999             Assam\n",
       "Name: IP_Filing_State , Length: 1000, dtype: string"
      ]
     },
     "execution_count": 96,
     "metadata": {},
     "output_type": "execute_result"
    }
   ],
   "source": [
    "data[\"IP_Filing_State \"]"
   ]
  },
  {
   "cell_type": "markdown",
   "id": "ca2db218-9821-4fb1-8780-f9a476307093",
   "metadata": {},
   "source": [
    "# Pre_IP_Action_Revenue(INR) Column "
   ]
  },
  {
   "cell_type": "code",
   "execution_count": 98,
   "id": "30fc4a48-51db-4c29-9628-823b6edbd3ab",
   "metadata": {},
   "outputs": [
    {
     "data": {
      "text/plain": [
       "0      223840.19\n",
       "1      338300.05\n",
       "2      141143.15\n",
       "3      192693.25\n",
       "4      166170.68\n",
       "         ...    \n",
       "995    461902.93\n",
       "996    470025.98\n",
       "997    260790.62\n",
       "998    289426.82\n",
       "999    217822.56\n",
       "Name: Pre_IP_Action_Revenue(INR), Length: 1000, dtype: float64"
      ]
     },
     "execution_count": 98,
     "metadata": {},
     "output_type": "execute_result"
    }
   ],
   "source": [
    "data['Pre_IP_Action_Revenue(INR)']"
   ]
  },
  {
   "cell_type": "code",
   "execution_count": 99,
   "id": "b28c9088-9502-47b9-b7f9-38cebfcd9b83",
   "metadata": {},
   "outputs": [
    {
     "data": {
      "text/plain": [
       "<Axes: ylabel='Pre_IP_Action_Revenue(INR)'>"
      ]
     },
     "execution_count": 99,
     "metadata": {},
     "output_type": "execute_result"
    },
    {
     "data": {
      "image/png": "[encoded data removed]",
      "text/plain": [
       "<Figure size 640x480 with 1 Axes>"
      ]
     },
     "metadata": {},
     "output_type": "display_data"
    }
   ],
   "source": [
    "# Check Outliers \n",
    "plot3=sns.boxplot(data['Pre_IP_Action_Revenue(INR)'])\n",
    "plot3 # Not a single outlier is present"
   ]
  },
  {
   "cell_type": "code",
   "execution_count": 100,
   "id": "7e432783-3fc4-4dad-992f-bbd7542bbc56",
   "metadata": {},
   "outputs": [
    {
     "name": "stdout",
     "output_type": "stream",
     "text": [
      "[]\n"
     ]
    }
   ],
   "source": [
    "# Checking if any negative value is present or not we can se it by boxplot but we se by code \n",
    "g=data['Pre_IP_Action_Revenue(INR)']\n",
    "l6=[]\n",
    "for i in g:\n",
    "    if i<=0:\n",
    "        print(\"Negative Value Detected\")\n",
    "        l6.append(i)\n",
    "print(l6)   # Does not contain any negative value       "
   ]
  },
  {
   "cell_type": "markdown",
   "id": "6063109b-8bc9-40a1-92be-2cb1d2358fd2",
   "metadata": {},
   "source": [
    "# Post_IP_Action_Revenue(INR) Column "
   ]
  },
  {
   "cell_type": "code",
   "execution_count": 102,
   "id": "a1f0321e-e1ed-448f-8319-93caff7f366e",
   "metadata": {},
   "outputs": [
    {
     "data": {
      "text/plain": [
       "0      422333.1000\n",
       "1      378851.2600\n",
       "2      177737.4800\n",
       "3      265472.8200\n",
       "4      340283.4900\n",
       "          ...     \n",
       "995    621306.0920\n",
       "996    515881.9711\n",
       "997    347879.5672\n",
       "998    363554.8999\n",
       "999    316081.4885\n",
       "Name: Post_IP_Action_Revenue(INR), Length: 1000, dtype: float64"
      ]
     },
     "execution_count": 102,
     "metadata": {},
     "output_type": "execute_result"
    }
   ],
   "source": [
    "data['Post_IP_Action_Revenue(INR)']"
   ]
  },
  {
   "cell_type": "code",
   "execution_count": 103,
   "id": "026b6c5a-50b2-4b2b-bdfa-65e61d01b2f6",
   "metadata": {},
   "outputs": [
    {
     "data": {
      "text/plain": [
       "35"
      ]
     },
     "execution_count": 103,
     "metadata": {},
     "output_type": "execute_result"
    }
   ],
   "source": [
    "# Checking Null values \n",
    "data['Post_IP_Action_Revenue(INR)'].isnull().sum()"
   ]
  },
  {
   "cell_type": "code",
   "execution_count": 104,
   "id": "19dd26f4-bc21-4550-84c3-b5213ddf4ac9",
   "metadata": {},
   "outputs": [
    {
     "name": "stdout",
     "output_type": "stream",
     "text": [
      "[]\n"
     ]
    }
   ],
   "source": [
    "# Check if their negative value is present or not\n",
    "l=data[\"Post_IP_Action_Revenue(INR)\"]\n",
    "l7=[]\n",
    "for i in l:\n",
    "    if i<0:\n",
    "        print(\"Negative Value Detected\")\n",
    "        l7.append(i)\n",
    "print(l7)        "
   ]
  },
  {
   "cell_type": "code",
   "execution_count": 105,
   "id": "d04d723e-16e6-462c-8167-7d7e81cd1cc8",
   "metadata": {},
   "outputs": [
    {
     "data": {
      "text/html": [
       "<div>\n",
       "<style scoped>\n",
       "    .dataframe tbody tr th:only-of-type {\n",
       "        vertical-align: middle;\n",
       "    }\n",
       "\n",
       "    .dataframe tbody tr th {\n",
       "        vertical-align: top;\n",
       "    }\n",
       "\n",
       "    .dataframe thead th {\n",
       "        text-align: right;\n",
       "    }\n",
       "</style>\n",
       "<table border=\"1\" class=\"dataframe\">\n",
       "  <thead>\n",
       "    <tr style=\"text-align: right;\">\n",
       "      <th></th>\n",
       "      <th>Post_IP_Action_Revenue(INR)</th>\n",
       "    </tr>\n",
       "    <tr>\n",
       "      <th>IP_Type</th>\n",
       "      <th></th>\n",
       "    </tr>\n",
       "  </thead>\n",
       "  <tbody>\n",
       "    <tr>\n",
       "      <th>Copyright</th>\n",
       "      <td>344586.548993</td>\n",
       "    </tr>\n",
       "    <tr>\n",
       "      <th>Geographical indication</th>\n",
       "      <td>347053.693161</td>\n",
       "    </tr>\n",
       "    <tr>\n",
       "      <th>Industrial design</th>\n",
       "      <td>341096.678514</td>\n",
       "    </tr>\n",
       "    <tr>\n",
       "      <th>Patent</th>\n",
       "      <td>350420.094785</td>\n",
       "    </tr>\n",
       "    <tr>\n",
       "      <th>Trade secret</th>\n",
       "      <td>342361.714518</td>\n",
       "    </tr>\n",
       "    <tr>\n",
       "      <th>Trademark</th>\n",
       "      <td>349017.018956</td>\n",
       "    </tr>\n",
       "  </tbody>\n",
       "</table>\n",
       "</div>"
      ],
      "text/plain": [
       "                         Post_IP_Action_Revenue(INR)\n",
       "IP_Type                                             \n",
       "Copyright                              344586.548993\n",
       "Geographical indication                347053.693161\n",
       "Industrial design                      341096.678514\n",
       "Patent                                 350420.094785\n",
       "Trade secret                           342361.714518\n",
       "Trademark                              349017.018956"
      ]
     },
     "execution_count": 105,
     "metadata": {},
     "output_type": "execute_result"
    }
   ],
   "source": [
    "# Find the avg of Post IP Action Revenue :-\n",
    "data.pivot_table(index=\"IP_Type\",values='Post_IP_Action_Revenue(INR)',aggfunc=\"mean\")"
   ]
  },
  {
   "cell_type": "code",
   "execution_count": 106,
   "id": "48db9fd1-f115-45bb-902f-80de8cb2e3da",
   "metadata": {},
   "outputs": [],
   "source": [
    "# Fill null value with Unknown :-\n",
    "data[\"Post_IP_Action_Revenue(INR)\"]=data[\"Post_IP_Action_Revenue(INR)\"].fillna(\"Unknown\")"
   ]
  },
  {
   "cell_type": "code",
   "execution_count": 107,
   "id": "2ecbdada-f7b6-4056-977d-da151bcdced0",
   "metadata": {},
   "outputs": [],
   "source": [
    "''' Change the null values with the avg of the corresponding IP_Type or you can also drop these value by asking\n",
    "with your seniours'''\n",
    "v=data[\"Post_IP_Action_Revenue(INR)\"]\n",
    "IP_Type=data[\"IP_Type\"]\n",
    "def replace1(r,t,y):\n",
    "    for i in v:\n",
    "        data.loc[(IP_Type==r) & (data['Post_IP_Action_Revenue(INR)']==t),'Post_IP_Action_Revenue(INR)']=y\n",
    "replace1('Copyright',\"Unknown\",344586.548993)\n",
    "replace1('Geographical indication',\"Unknown\",347053.693161)\n",
    "replace1('Industrial design',\"Unknown\",341096.678514)\n",
    "replace1('Patent',\"Unknown\",350420.094785)\n",
    "replace1('Trade secret',\"Unknown\",342361.714518)\n",
    "replace1('Trademark',\"Unknown\",349017.018956)\n",
    "\n"
   ]
  },
  {
   "cell_type": "code",
   "execution_count": 108,
   "id": "57b22e84-987c-4bf4-bcc0-7889de79f1c3",
   "metadata": {},
   "outputs": [
    {
     "data": {
      "text/plain": [
       "0"
      ]
     },
     "execution_count": 108,
     "metadata": {},
     "output_type": "execute_result"
    }
   ],
   "source": [
    "(data[\"Post_IP_Action_Revenue(INR)\"]==0).sum()"
   ]
  },
  {
   "cell_type": "code",
   "execution_count": 109,
   "id": "add4183d-560b-49bf-8e90-a61b9c53f125",
   "metadata": {},
   "outputs": [
    {
     "data": {
      "text/plain": [
       "<Axes: ylabel='Post_IP_Action_Revenue(INR)'>"
      ]
     },
     "execution_count": 109,
     "metadata": {},
     "output_type": "execute_result"
    },
    {
     "data": {
      "image/png": "[encoded data removed]",
      "text/plain": [
       "<Figure size 640x480 with 1 Axes>"
      ]
     },
     "metadata": {},
     "output_type": "display_data"
    }
   ],
   "source": [
    "# Checking Outlier \n",
    "sns.boxplot(data[\"Post_IP_Action_Revenue(INR)\"]) # Not Outlier "
   ]
  },
  {
   "cell_type": "markdown",
   "id": "1b2ac0cd-785c-45cc-b499-8108561dbbdb",
   "metadata": {},
   "source": [
    "# Enforcement_Cost(INR) Column "
   ]
  },
  {
   "cell_type": "code",
   "execution_count": 116,
   "id": "65faa588-88cb-4305-be96-b178d4e875bb",
   "metadata": {},
   "outputs": [
    {
     "data": {
      "text/plain": [
       "0      62209.780\n",
       "1      51887.050\n",
       "2      38161.510\n",
       "3      44187.540\n",
       "4      96641.570\n",
       "         ...    \n",
       "995    68698.330\n",
       "996    48839.700\n",
       "997    51887.045\n",
       "998    86004.740\n",
       "999    35915.570\n",
       "Name: Enforcement_Cost(INR), Length: 1000, dtype: float64"
      ]
     },
     "execution_count": 116,
     "metadata": {},
     "output_type": "execute_result"
    }
   ],
   "source": [
    "data[\"Enforcement_Cost(INR)\"]"
   ]
  },
  {
   "cell_type": "code",
   "execution_count": 125,
   "id": "c17bb5d9-a748-4abe-80b8-c8d0f1693ad9",
   "metadata": {},
   "outputs": [
    {
     "data": {
      "text/plain": [
       "22"
      ]
     },
     "execution_count": 125,
     "metadata": {},
     "output_type": "execute_result"
    }
   ],
   "source": [
    "data[\"Enforcement_Cost(INR)\"].isnull().sum()"
   ]
  },
  {
   "cell_type": "code",
   "execution_count": 133,
   "id": "921f1938-5da1-454a-8341-60e37aa014c2",
   "metadata": {},
   "outputs": [
    {
     "name": "stdout",
     "output_type": "stream",
     "text": [
      "[]\n"
     ]
    }
   ],
   "source": [
    "# Checking Negative Value \n",
    "# Check if their negative value is present or not\n",
    "k=data[\"Enforcement_Cost(INR)\"]\n",
    "l8=[]\n",
    "for i in k:\n",
    "    if i<0:\n",
    "        print(\"Negative Value Detected\")\n",
    "        l8.append(i)\n",
    "print(l8) # Bot Negative Value found "
   ]
  },
  {
   "cell_type": "code",
   "execution_count": 134,
   "id": "0f748b64-32e7-4b5a-aa4d-513ba9d3c36c",
   "metadata": {},
   "outputs": [
    {
     "data": {
      "text/html": [
       "<div>\n",
       "<style scoped>\n",
       "    .dataframe tbody tr th:only-of-type {\n",
       "        vertical-align: middle;\n",
       "    }\n",
       "\n",
       "    .dataframe tbody tr th {\n",
       "        vertical-align: top;\n",
       "    }\n",
       "\n",
       "    .dataframe thead th {\n",
       "        text-align: right;\n",
       "    }\n",
       "</style>\n",
       "<table border=\"1\" class=\"dataframe\">\n",
       "  <thead>\n",
       "    <tr style=\"text-align: right;\">\n",
       "      <th></th>\n",
       "      <th>Enforcement_Cost(INR)</th>\n",
       "    </tr>\n",
       "    <tr>\n",
       "      <th>IP_Type</th>\n",
       "      <th></th>\n",
       "    </tr>\n",
       "  </thead>\n",
       "  <tbody>\n",
       "    <tr>\n",
       "      <th>Copyright</th>\n",
       "      <td>48879.454937</td>\n",
       "    </tr>\n",
       "    <tr>\n",
       "      <th>Geographical indication</th>\n",
       "      <td>49905.976728</td>\n",
       "    </tr>\n",
       "    <tr>\n",
       "      <th>Industrial design</th>\n",
       "      <td>50410.379939</td>\n",
       "    </tr>\n",
       "    <tr>\n",
       "      <th>Patent</th>\n",
       "      <td>53208.486063</td>\n",
       "    </tr>\n",
       "    <tr>\n",
       "      <th>Trade secret</th>\n",
       "      <td>51425.909385</td>\n",
       "    </tr>\n",
       "    <tr>\n",
       "      <th>Trademark</th>\n",
       "      <td>52125.568824</td>\n",
       "    </tr>\n",
       "  </tbody>\n",
       "</table>\n",
       "</div>"
      ],
      "text/plain": [
       "                         Enforcement_Cost(INR)\n",
       "IP_Type                                       \n",
       "Copyright                         48879.454937\n",
       "Geographical indication           49905.976728\n",
       "Industrial design                 50410.379939\n",
       "Patent                            53208.486063\n",
       "Trade secret                      51425.909385\n",
       "Trademark                         52125.568824"
      ]
     },
     "execution_count": 134,
     "metadata": {},
     "output_type": "execute_result"
    }
   ],
   "source": [
    "# Find the avg of Post IP Action Revenue :-\n",
    "data.pivot_table(index=\"IP_Type\",values='Enforcement_Cost(INR)',aggfunc=\"mean\")"
   ]
  },
  {
   "cell_type": "code",
   "execution_count": 135,
   "id": "796a8f91-813c-4669-9f92-7268c4112dd5",
   "metadata": {},
   "outputs": [],
   "source": [
    "# Fill null value with Unknown :-\n",
    "data[\"Enforcement_Cost(INR)\"]=data[\"Enforcement_Cost(INR)\"].fillna(\"Unknown\")"
   ]
  },
  {
   "cell_type": "code",
   "execution_count": 136,
   "id": "6ea6b750-d872-4be4-a9bb-894675f3b4bd",
   "metadata": {},
   "outputs": [],
   "source": [
    "''' Change the null values with the avg of the corresponding IP_Type or you can also drop these value by asking\n",
    "with your seniours'''\n",
    "h=data[\"Enforcement_Cost(INR)\"]\n",
    "IP_Type=data[\"IP_Type\"]\n",
    "def replace1(q,w,e):\n",
    "    for i in h:\n",
    "        data.loc[(IP_Type==q) & (data['Enforcement_Cost(INR)']==w),'Enforcement_Cost(INR)']=e\n",
    "replace1('Copyright',\"Unknown\",48879.454937)\n",
    "replace1('Geographical indication',\"Unknown\",49905.976728)\n",
    "replace1('Industrial design',\"Unknown\",50410.379939)\n",
    "replace1('Patent',\"Unknown\",53208.486063)\n",
    "replace1('Trade secret',\"Unknown\",51425.909385)\n",
    "replace1('Trademark',\"Unknown\",52125.568824)"
   ]
  },
  {
   "cell_type": "code",
   "execution_count": 137,
   "id": "137b7642-e67b-41f4-b911-ea6aed1c7e2d",
   "metadata": {},
   "outputs": [
    {
     "data": {
      "text/plain": [
       "0"
      ]
     },
     "execution_count": 137,
     "metadata": {},
     "output_type": "execute_result"
    }
   ],
   "source": [
    "# Delete Duplicates if Present \n",
    "data.duplicated().sum() # Not Duplicate row present in the data "
   ]
  },
  {
   "cell_type": "markdown",
   "id": "fe5ccff5-1623-4b03-9f4a-bcca51d8e40b",
   "metadata": {},
   "source": [
    "# Do some task with the filing date "
   ]
  },
  {
   "cell_type": "code",
   "execution_count": 153,
   "id": "f837b701-9307-40cd-8452-976f2c14f783",
   "metadata": {},
   "outputs": [
    {
     "data": {
      "text/plain": [
       "Index(['Year', 'Date_of_Filing', 'Date_of_Expiration', 'IP_Case_ID', 'IP_Type',\n",
       "       'IP_Application_Status', 'Processing_Time_Days',\n",
       "       'Approval_Rate_percentage', 'Rejection_Reasons',\n",
       "       'Number_of_Opposition_Cases_Received', 'Number_of_Infringement_Cases',\n",
       "       'IP_Filing_State ', 'Pre_IP_Action_Revenue(INR)',\n",
       "       'Post_IP_Action_Revenue(INR)', 'Enforcement_Cost(INR)'],\n",
       "      dtype='object')"
      ]
     },
     "execution_count": 153,
     "metadata": {},
     "output_type": "execute_result"
    }
   ],
   "source": [
    "data.columns"
   ]
  },
  {
   "cell_type": "code",
   "execution_count": 155,
   "id": "a1c99149-fc17-4ecc-bb21-5e547d927c01",
   "metadata": {},
   "outputs": [
    {
     "data": {
      "text/plain": [
       "0   2024-03-19\n",
       "1   2023-06-15\n",
       "2   2024-07-08\n",
       "3   2023-06-18\n",
       "4   2024-02-22\n",
       "Name: Date_of_Filing, dtype: datetime64[ns]"
      ]
     },
     "execution_count": 155,
     "metadata": {},
     "output_type": "execute_result"
    }
   ],
   "source": [
    "data['Date_of_Filing'].head()"
   ]
  },
  {
   "cell_type": "code",
   "execution_count": 167,
   "id": "4449cbdc-904b-4c03-8b09-4a5ced8499c9",
   "metadata": {},
   "outputs": [
    {
     "data": {
      "text/plain": [
       "0      Tue\n",
       "1      Thu\n",
       "2      Mon\n",
       "3      Sun\n",
       "4      Thu\n",
       "      ... \n",
       "995    Wed\n",
       "996    Sat\n",
       "997    Sat\n",
       "998    Sat\n",
       "999    Wed\n",
       "Name: Filing_Day, Length: 1000, dtype: object"
      ]
     },
     "execution_count": 167,
     "metadata": {},
     "output_type": "execute_result"
    }
   ],
   "source": [
    "# Extract Day\n",
    "data['Filing_Day']=data['Date_of_Filing'].dt.strftime('%a')\n",
    "data['Filing_Day']"
   ]
  },
  {
   "cell_type": "code",
   "execution_count": 171,
   "id": "84a715a5-3bdb-4a06-8619-e800163019d3",
   "metadata": {},
   "outputs": [
    {
     "data": {
      "text/plain": [
       "0         March\n",
       "1          June\n",
       "2          July\n",
       "3          June\n",
       "4      February\n",
       "         ...   \n",
       "995        June\n",
       "996    November\n",
       "997         May\n",
       "998       April\n",
       "999      August\n",
       "Name: Filing_month, Length: 1000, dtype: object"
      ]
     },
     "execution_count": 171,
     "metadata": {},
     "output_type": "execute_result"
    }
   ],
   "source": [
    "data['Filing_month']=data['Date_of_Filing'].dt.strftime('%B')\n",
    "data['Filing_month']"
   ]
  },
  {
   "cell_type": "code",
   "execution_count": 173,
   "id": "aa0b1076-f9ad-4402-b9f0-005957a5c61e",
   "metadata": {},
   "outputs": [
    {
     "data": {
      "text/plain": [
       "0      2024\n",
       "1      2023\n",
       "2      2024\n",
       "3      2023\n",
       "4      2024\n",
       "       ... \n",
       "995    2023\n",
       "996    2024\n",
       "997    2023\n",
       "998    2023\n",
       "999    2024\n",
       "Name: Filing_year, Length: 1000, dtype: object"
      ]
     },
     "execution_count": 173,
     "metadata": {},
     "output_type": "execute_result"
    }
   ],
   "source": [
    "data['Filing_year']=data['Date_of_Filing'].dt.strftime('%Y')\n",
    "data['Filing_year']"
   ]
  },
  {
   "cell_type": "code",
   "execution_count": null,
   "id": "028d5acc-bf4c-4e53-8e56-b95ed3fdc947",
   "metadata": {},
   "outputs": [],
   "source": []
  },
  {
   "cell_type": "code",
   "execution_count": 175,
   "id": "f70940a3-83f5-47bb-ad29-145113919641",
   "metadata": {},
   "outputs": [
    {
     "name": "stdout",
     "output_type": "stream",
     "text": [
      "The data is exported\n"
     ]
    }
   ],
   "source": [
    "# Export The data to the excel sheet \n",
    "df=pd.DataFrame(data)\n",
    "export=df.to_excel(r\"C:\\Users\\ASUS\\OneDrive\\Desktop\\IP_Filing\\IP Data Clean new.xlsx\")\n",
    "export\n",
    "print (\"The data is exported\")"
   ]
  },
  {
   "cell_type": "markdown",
   "id": "6970257c-b89a-49bd-85d3-32406e1d03bb",
   "metadata": {},
   "source": [
    "# Finish"
   ]
  },
  {
   "cell_type": "code",
   "execution_count": null,
   "id": "c25d776c-474a-4edd-89cf-96bbb5a52d6f",
   "metadata": {},
   "outputs": [],
   "source": []
  },
  {
   "cell_type": "code",
   "execution_count": null,
   "id": "a68eaf31-7a85-48cc-87fb-2206af84232c",
   "metadata": {},
   "outputs": [],
   "source": []
  }
 ],
 "metadata": {
  "kernelspec": {
   "display_name": "Python [conda env:base] *",
   "language": "python",
   "name": "conda-base-py"
  },
  "language_info": {
   "codemirror_mode": {
    "name": "ipython",
    "version": 3
   },
   "file_extension": ".py",
   "mimetype": "text/x-python",
   "name": "python",
   "nbconvert_exporter": "python",
   "pygments_lexer": "ipython3",
   "version": "3.12.7"
  }
 },
 "nbformat": 4,
 "nbformat_minor": 5
}
